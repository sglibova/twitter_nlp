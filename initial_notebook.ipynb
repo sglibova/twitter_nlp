{
 "cells": [
  {
   "cell_type": "markdown",
   "metadata": {},
   "source": [
    "# Business Problem"
   ]
  },
  {
   "cell_type": "markdown",
   "metadata": {},
   "source": [
    "# Business Understanding"
   ]
  },
  {
   "cell_type": "markdown",
   "metadata": {},
   "source": [
    "# Supporting Research"
   ]
  },
  {
   "cell_type": "markdown",
   "metadata": {},
   "source": [
    "# Data & Sources"
   ]
  },
  {
   "cell_type": "markdown",
   "metadata": {},
   "source": [
    "[Kaggle Dataset on Covid-19 related tweets globally](https://www.kaggle.com/komalkhetlani/tweets-about-covid19-all-over-the-world)"
   ]
  },
  {
   "cell_type": "markdown",
   "metadata": {},
   "source": [
    "# Proposal\n",
    "\n",
    "To build a language bot that is capable of detecting tweets that may seem depressive or anxious that is capable of messaging users with location-based recommendations for free, low-cost, and paid-for mental health services in their area and/or to offer comforting suggestions.\n",
    "\n",
    "As this is Covid-19 related, the model may have to adapt to drift as global situations change, but for now, we felt it to be relevant for at least the next several years."
   ]
  },
  {
   "cell_type": "markdown",
   "metadata": {},
   "source": [
    "# Data Understanding"
   ]
  },
  {
   "cell_type": "markdown",
   "metadata": {},
   "source": [
    "# Exploratory Data Analysis"
   ]
  },
  {
   "cell_type": "code",
   "execution_count": 2,
   "metadata": {},
   "outputs": [],
   "source": [
    "import pandas as pd\n",
    "import numpy as np\n",
    "import matplotlib.pyplot as plt\n",
    "import seaborn as sns\n",
    "import nltk\n",
    "\n",
    "import math\n",
    "import string\n",
    "import re\n",
    "\n",
    "%matplotlib inline"
   ]
  },
  {
   "cell_type": "code",
   "execution_count": 27,
   "metadata": {
    "scrolled": true
   },
   "outputs": [
    {
     "name": "stderr",
     "output_type": "stream",
     "text": [
      "C:\\Users\\svett\\anaconda3\\envs\\learn-env\\lib\\site-packages\\IPython\\core\\interactiveshell.py:3145: DtypeWarning: Columns (13) have mixed types.Specify dtype option on import or set low_memory=False.\n",
      "  has_raised = await self.run_ast_nodes(code_ast.body, cell_name,\n"
     ]
    },
    {
     "data": {
      "text/html": [
       "<div>\n",
       "<style scoped>\n",
       "    .dataframe tbody tr th:only-of-type {\n",
       "        vertical-align: middle;\n",
       "    }\n",
       "\n",
       "    .dataframe tbody tr th {\n",
       "        vertical-align: top;\n",
       "    }\n",
       "\n",
       "    .dataframe thead th {\n",
       "        text-align: right;\n",
       "    }\n",
       "</style>\n",
       "<table border=\"1\" class=\"dataframe\">\n",
       "  <thead>\n",
       "    <tr style=\"text-align: right;\">\n",
       "      <th></th>\n",
       "      <th>id</th>\n",
       "      <th>created_at</th>\n",
       "      <th>date</th>\n",
       "      <th>time</th>\n",
       "      <th>timezone</th>\n",
       "      <th>place</th>\n",
       "      <th>tweet</th>\n",
       "      <th>language</th>\n",
       "      <th>replies_count</th>\n",
       "      <th>retweets_count</th>\n",
       "      <th>likes_count</th>\n",
       "      <th>hashtags</th>\n",
       "      <th>cashtags</th>\n",
       "      <th>retweet</th>\n",
       "      <th>video</th>\n",
       "      <th>thumbnail</th>\n",
       "    </tr>\n",
       "  </thead>\n",
       "  <tbody>\n",
       "    <tr>\n",
       "      <th>0</th>\n",
       "      <td>1.385880e+18</td>\n",
       "      <td>2021-04-24 08:43:17 UTC</td>\n",
       "      <td>4/24/2021</td>\n",
       "      <td>8:43:17</td>\n",
       "      <td>0</td>\n",
       "      <td>NaN</td>\n",
       "      <td>🇨🇺: ✍️ Covid-19 en Cuba: 1241 nuevos casos pos...</td>\n",
       "      <td>es</td>\n",
       "      <td>0.0</td>\n",
       "      <td>0.0</td>\n",
       "      <td>0.0</td>\n",
       "      <td>['reportando', 'cuba']</td>\n",
       "      <td>[]</td>\n",
       "      <td>False</td>\n",
       "      <td>0.0</td>\n",
       "      <td>NaN</td>\n",
       "    </tr>\n",
       "    <tr>\n",
       "      <th>1</th>\n",
       "      <td>1.385880e+18</td>\n",
       "      <td>2021-04-24 08:43:17 UTC</td>\n",
       "      <td>4/24/2021</td>\n",
       "      <td>8:43:17</td>\n",
       "      <td>0</td>\n",
       "      <td>NaN</td>\n",
       "      <td>The latest The Zika Advice Paper!  https://t.c...</td>\n",
       "      <td>en</td>\n",
       "      <td>0.0</td>\n",
       "      <td>0.0</td>\n",
       "      <td>0.0</td>\n",
       "      <td>['covid19', 'amr']</td>\n",
       "      <td>[]</td>\n",
       "      <td>False</td>\n",
       "      <td>0.0</td>\n",
       "      <td>NaN</td>\n",
       "    </tr>\n",
       "    <tr>\n",
       "      <th>2</th>\n",
       "      <td>1.385880e+18</td>\n",
       "      <td>2021-04-24 08:43:16 UTC</td>\n",
       "      <td>4/24/2021</td>\n",
       "      <td>8:43:16</td>\n",
       "      <td>0</td>\n",
       "      <td>NaN</td>\n",
       "      <td>Tum karo toh mantra ..woh kare toh tantra ..ai...</td>\n",
       "      <td>tl</td>\n",
       "      <td>0.0</td>\n",
       "      <td>0.0</td>\n",
       "      <td>0.0</td>\n",
       "      <td>['covidindia', 'covidvaccine', 'covidresources...</td>\n",
       "      <td>[]</td>\n",
       "      <td>False</td>\n",
       "      <td>1.0</td>\n",
       "      <td>https://pbs.twimg.com/media/EzufwnkUYA0TExx.jpg</td>\n",
       "    </tr>\n",
       "    <tr>\n",
       "      <th>3</th>\n",
       "      <td>1.385880e+18</td>\n",
       "      <td>2021-04-24 08:43:16 UTC</td>\n",
       "      <td>4/24/2021</td>\n",
       "      <td>8:43:16</td>\n",
       "      <td>0</td>\n",
       "      <td>NaN</td>\n",
       "      <td>https://t.co/4rdhSH3IYl  Prime Minister @Nare...</td>\n",
       "      <td>en</td>\n",
       "      <td>0.0</td>\n",
       "      <td>0.0</td>\n",
       "      <td>0.0</td>\n",
       "      <td>['covid_19']</td>\n",
       "      <td>[]</td>\n",
       "      <td>False</td>\n",
       "      <td>1.0</td>\n",
       "      <td>https://pbs.twimg.com/media/EzueSRxVgAEiTie.jpg</td>\n",
       "    </tr>\n",
       "    <tr>\n",
       "      <th>4</th>\n",
       "      <td>1.385880e+18</td>\n",
       "      <td>2021-04-24 08:43:16 UTC</td>\n",
       "      <td>4/24/2021</td>\n",
       "      <td>8:43:16</td>\n",
       "      <td>0</td>\n",
       "      <td>NaN</td>\n",
       "      <td>@bc_pt64 @KackCake @sherlockine1 @SternchenJvB...</td>\n",
       "      <td>de</td>\n",
       "      <td>0.0</td>\n",
       "      <td>0.0</td>\n",
       "      <td>0.0</td>\n",
       "      <td>[]</td>\n",
       "      <td>[]</td>\n",
       "      <td>False</td>\n",
       "      <td>0.0</td>\n",
       "      <td>NaN</td>\n",
       "    </tr>\n",
       "  </tbody>\n",
       "</table>\n",
       "</div>"
      ],
      "text/plain": [
       "             id               created_at       date     time  timezone place  \\\n",
       "0  1.385880e+18  2021-04-24 08:43:17 UTC  4/24/2021  8:43:17         0   NaN   \n",
       "1  1.385880e+18  2021-04-24 08:43:17 UTC  4/24/2021  8:43:17         0   NaN   \n",
       "2  1.385880e+18  2021-04-24 08:43:16 UTC  4/24/2021  8:43:16         0   NaN   \n",
       "3  1.385880e+18  2021-04-24 08:43:16 UTC  4/24/2021  8:43:16         0   NaN   \n",
       "4  1.385880e+18  2021-04-24 08:43:16 UTC  4/24/2021  8:43:16         0   NaN   \n",
       "\n",
       "                                               tweet language  replies_count  \\\n",
       "0  🇨🇺: ✍️ Covid-19 en Cuba: 1241 nuevos casos pos...       es            0.0   \n",
       "1  The latest The Zika Advice Paper!  https://t.c...       en            0.0   \n",
       "2  Tum karo toh mantra ..woh kare toh tantra ..ai...       tl            0.0   \n",
       "3   https://t.co/4rdhSH3IYl  Prime Minister @Nare...       en            0.0   \n",
       "4  @bc_pt64 @KackCake @sherlockine1 @SternchenJvB...       de            0.0   \n",
       "\n",
       "   retweets_count  likes_count  \\\n",
       "0             0.0          0.0   \n",
       "1             0.0          0.0   \n",
       "2             0.0          0.0   \n",
       "3             0.0          0.0   \n",
       "4             0.0          0.0   \n",
       "\n",
       "                                            hashtags cashtags retweet  video  \\\n",
       "0                             ['reportando', 'cuba']       []   False    0.0   \n",
       "1                                 ['covid19', 'amr']       []   False    0.0   \n",
       "2  ['covidindia', 'covidvaccine', 'covidresources...       []   False    1.0   \n",
       "3                                       ['covid_19']       []   False    1.0   \n",
       "4                                                 []       []   False    0.0   \n",
       "\n",
       "                                         thumbnail  \n",
       "0                                              NaN  \n",
       "1                                              NaN  \n",
       "2  https://pbs.twimg.com/media/EzufwnkUYA0TExx.jpg  \n",
       "3  https://pbs.twimg.com/media/EzueSRxVgAEiTie.jpg  \n",
       "4                                              NaN  "
      ]
     },
     "execution_count": 27,
     "metadata": {},
     "output_type": "execute_result"
    }
   ],
   "source": [
    "dataset = pd.read_csv('data/TweetsAboutCovid-19.csv')\n",
    "dataset.head()"
   ]
  },
  {
   "cell_type": "code",
   "execution_count": 28,
   "metadata": {},
   "outputs": [
    {
     "name": "stdout",
     "output_type": "stream",
     "text": [
      "Shape of English dataset: (412115, 16)\n"
     ]
    },
    {
     "data": {
      "text/html": [
       "<div>\n",
       "<style scoped>\n",
       "    .dataframe tbody tr th:only-of-type {\n",
       "        vertical-align: middle;\n",
       "    }\n",
       "\n",
       "    .dataframe tbody tr th {\n",
       "        vertical-align: top;\n",
       "    }\n",
       "\n",
       "    .dataframe thead th {\n",
       "        text-align: right;\n",
       "    }\n",
       "</style>\n",
       "<table border=\"1\" class=\"dataframe\">\n",
       "  <thead>\n",
       "    <tr style=\"text-align: right;\">\n",
       "      <th></th>\n",
       "      <th>id</th>\n",
       "      <th>created_at</th>\n",
       "      <th>date</th>\n",
       "      <th>time</th>\n",
       "      <th>timezone</th>\n",
       "      <th>place</th>\n",
       "      <th>tweet</th>\n",
       "      <th>language</th>\n",
       "      <th>replies_count</th>\n",
       "      <th>retweets_count</th>\n",
       "      <th>likes_count</th>\n",
       "      <th>hashtags</th>\n",
       "      <th>cashtags</th>\n",
       "      <th>retweet</th>\n",
       "      <th>video</th>\n",
       "      <th>thumbnail</th>\n",
       "    </tr>\n",
       "  </thead>\n",
       "  <tbody>\n",
       "    <tr>\n",
       "      <th>1</th>\n",
       "      <td>1.385880e+18</td>\n",
       "      <td>2021-04-24 08:43:17 UTC</td>\n",
       "      <td>4/24/2021</td>\n",
       "      <td>8:43:17</td>\n",
       "      <td>0</td>\n",
       "      <td>NaN</td>\n",
       "      <td>The latest The Zika Advice Paper!  https://t.c...</td>\n",
       "      <td>en</td>\n",
       "      <td>0.0</td>\n",
       "      <td>0.0</td>\n",
       "      <td>0.0</td>\n",
       "      <td>['covid19', 'amr']</td>\n",
       "      <td>[]</td>\n",
       "      <td>False</td>\n",
       "      <td>0.0</td>\n",
       "      <td>NaN</td>\n",
       "    </tr>\n",
       "    <tr>\n",
       "      <th>3</th>\n",
       "      <td>1.385880e+18</td>\n",
       "      <td>2021-04-24 08:43:16 UTC</td>\n",
       "      <td>4/24/2021</td>\n",
       "      <td>8:43:16</td>\n",
       "      <td>0</td>\n",
       "      <td>NaN</td>\n",
       "      <td>https://t.co/4rdhSH3IYl  Prime Minister @Nare...</td>\n",
       "      <td>en</td>\n",
       "      <td>0.0</td>\n",
       "      <td>0.0</td>\n",
       "      <td>0.0</td>\n",
       "      <td>['covid_19']</td>\n",
       "      <td>[]</td>\n",
       "      <td>False</td>\n",
       "      <td>1.0</td>\n",
       "      <td>https://pbs.twimg.com/media/EzueSRxVgAEiTie.jpg</td>\n",
       "    </tr>\n",
       "    <tr>\n",
       "      <th>5</th>\n",
       "      <td>1.385880e+18</td>\n",
       "      <td>2021-04-24 08:43:16 UTC</td>\n",
       "      <td>4/24/2021</td>\n",
       "      <td>8:43:16</td>\n",
       "      <td>0</td>\n",
       "      <td>NaN</td>\n",
       "      <td>Covid-19: India is going through very terrible...</td>\n",
       "      <td>en</td>\n",
       "      <td>0.0</td>\n",
       "      <td>0.0</td>\n",
       "      <td>0.0</td>\n",
       "      <td>['presssangharsh', 'dailynews', 'news', 'india...</td>\n",
       "      <td>[]</td>\n",
       "      <td>False</td>\n",
       "      <td>1.0</td>\n",
       "      <td>https://pbs.twimg.com/media/EzufxgJXsAM--Iv.png</td>\n",
       "    </tr>\n",
       "    <tr>\n",
       "      <th>6</th>\n",
       "      <td>1.385880e+18</td>\n",
       "      <td>2021-04-24 08:43:15 UTC</td>\n",
       "      <td>4/24/2021</td>\n",
       "      <td>8:43:15</td>\n",
       "      <td>0</td>\n",
       "      <td>NaN</td>\n",
       "      <td>@CPBlr @KamalPantIPS speaks to me on the rules...</td>\n",
       "      <td>en</td>\n",
       "      <td>0.0</td>\n",
       "      <td>0.0</td>\n",
       "      <td>0.0</td>\n",
       "      <td>['covid19']</td>\n",
       "      <td>[]</td>\n",
       "      <td>False</td>\n",
       "      <td>0.0</td>\n",
       "      <td>NaN</td>\n",
       "    </tr>\n",
       "    <tr>\n",
       "      <th>7</th>\n",
       "      <td>1.385880e+18</td>\n",
       "      <td>2021-04-24 08:43:14 UTC</td>\n",
       "      <td>4/24/2021</td>\n",
       "      <td>8:43:14</td>\n",
       "      <td>0</td>\n",
       "      <td>NaN</td>\n",
       "      <td>@Physio_voice @BiswabhusanHC @ysjagan @Audimul...</td>\n",
       "      <td>en</td>\n",
       "      <td>0.0</td>\n",
       "      <td>0.0</td>\n",
       "      <td>0.0</td>\n",
       "      <td>[]</td>\n",
       "      <td>[]</td>\n",
       "      <td>False</td>\n",
       "      <td>0.0</td>\n",
       "      <td>NaN</td>\n",
       "    </tr>\n",
       "  </tbody>\n",
       "</table>\n",
       "</div>"
      ],
      "text/plain": [
       "             id               created_at       date     time  timezone place  \\\n",
       "1  1.385880e+18  2021-04-24 08:43:17 UTC  4/24/2021  8:43:17         0   NaN   \n",
       "3  1.385880e+18  2021-04-24 08:43:16 UTC  4/24/2021  8:43:16         0   NaN   \n",
       "5  1.385880e+18  2021-04-24 08:43:16 UTC  4/24/2021  8:43:16         0   NaN   \n",
       "6  1.385880e+18  2021-04-24 08:43:15 UTC  4/24/2021  8:43:15         0   NaN   \n",
       "7  1.385880e+18  2021-04-24 08:43:14 UTC  4/24/2021  8:43:14         0   NaN   \n",
       "\n",
       "                                               tweet language  replies_count  \\\n",
       "1  The latest The Zika Advice Paper!  https://t.c...       en            0.0   \n",
       "3   https://t.co/4rdhSH3IYl  Prime Minister @Nare...       en            0.0   \n",
       "5  Covid-19: India is going through very terrible...       en            0.0   \n",
       "6  @CPBlr @KamalPantIPS speaks to me on the rules...       en            0.0   \n",
       "7  @Physio_voice @BiswabhusanHC @ysjagan @Audimul...       en            0.0   \n",
       "\n",
       "   retweets_count  likes_count  \\\n",
       "1             0.0          0.0   \n",
       "3             0.0          0.0   \n",
       "5             0.0          0.0   \n",
       "6             0.0          0.0   \n",
       "7             0.0          0.0   \n",
       "\n",
       "                                            hashtags cashtags retweet  video  \\\n",
       "1                                 ['covid19', 'amr']       []   False    0.0   \n",
       "3                                       ['covid_19']       []   False    1.0   \n",
       "5  ['presssangharsh', 'dailynews', 'news', 'india...       []   False    1.0   \n",
       "6                                        ['covid19']       []   False    0.0   \n",
       "7                                                 []       []   False    0.0   \n",
       "\n",
       "                                         thumbnail  \n",
       "1                                              NaN  \n",
       "3  https://pbs.twimg.com/media/EzueSRxVgAEiTie.jpg  \n",
       "5  https://pbs.twimg.com/media/EzufxgJXsAM--Iv.png  \n",
       "6                                              NaN  \n",
       "7                                              NaN  "
      ]
     },
     "execution_count": 28,
     "metadata": {},
     "output_type": "execute_result"
    }
   ],
   "source": [
    "#let's look at the dataset for Tweets in English\n",
    "eng_data = dataset.loc[dataset['language'] == 'en']\n",
    "print(\"Shape of English dataset:\", eng_data.shape)\n",
    "eng_data.head()"
   ]
  },
  {
   "cell_type": "code",
   "execution_count": 29,
   "metadata": {},
   "outputs": [
    {
     "data": {
      "text/plain": [
       "id                float64\n",
       "created_at         object\n",
       "date               object\n",
       "time               object\n",
       "timezone            int64\n",
       "place              object\n",
       "tweet              object\n",
       "language           object\n",
       "replies_count     float64\n",
       "retweets_count    float64\n",
       "likes_count       float64\n",
       "hashtags           object\n",
       "cashtags           object\n",
       "retweet            object\n",
       "video             float64\n",
       "thumbnail          object\n",
       "dtype: object"
      ]
     },
     "execution_count": 29,
     "metadata": {},
     "output_type": "execute_result"
    }
   ],
   "source": [
    "eng_data.dtypes"
   ]
  },
  {
   "cell_type": "code",
   "execution_count": 30,
   "metadata": {
    "scrolled": true
   },
   "outputs": [
    {
     "data": {
      "text/plain": [
       "id                     0\n",
       "created_at             0\n",
       "date                   0\n",
       "time                   0\n",
       "timezone               0\n",
       "place             411589\n",
       "tweet                  0\n",
       "language               0\n",
       "replies_count          0\n",
       "retweets_count         0\n",
       "likes_count            0\n",
       "hashtags               0\n",
       "cashtags               0\n",
       "retweet                0\n",
       "video                  0\n",
       "thumbnail         306591\n",
       "dtype: int64"
      ]
     },
     "execution_count": 30,
     "metadata": {},
     "output_type": "execute_result"
    }
   ],
   "source": [
    "eng_data.isnull().sum()"
   ]
  },
  {
   "cell_type": "markdown",
   "metadata": {},
   "source": [
    "Features that may not be useful for training:  \n",
    "`created_at` - full timestamp for creation in UTC (universal coordinated time), can be dropped and the time feature will be labeled as UTC  \n",
    "`timezone` - all values here are 0  \n",
    "`place` - almost all values are null  \n",
    "`language` - currently only training on the English subset  \n",
    "`video` - not useful for text data  \n",
    "`thumbnail` - likely related to video, and almost all are null  "
   ]
  },
  {
   "cell_type": "code",
   "execution_count": 31,
   "metadata": {
    "scrolled": true
   },
   "outputs": [],
   "source": [
    "eng_data = eng_data.drop(columns=['created_at','timezone', 'place', 'language', 'video', 'thumbnail'], axis=1)\n",
    "eng_data.rename(columns={'time':'time_utc'}, inplace=True)"
   ]
  },
  {
   "cell_type": "code",
   "execution_count": 32,
   "metadata": {
    "scrolled": true
   },
   "outputs": [
    {
     "data": {
      "text/html": [
       "<div>\n",
       "<style scoped>\n",
       "    .dataframe tbody tr th:only-of-type {\n",
       "        vertical-align: middle;\n",
       "    }\n",
       "\n",
       "    .dataframe tbody tr th {\n",
       "        vertical-align: top;\n",
       "    }\n",
       "\n",
       "    .dataframe thead th {\n",
       "        text-align: right;\n",
       "    }\n",
       "</style>\n",
       "<table border=\"1\" class=\"dataframe\">\n",
       "  <thead>\n",
       "    <tr style=\"text-align: right;\">\n",
       "      <th></th>\n",
       "      <th>id</th>\n",
       "      <th>date</th>\n",
       "      <th>time_utc</th>\n",
       "      <th>tweet</th>\n",
       "      <th>replies_count</th>\n",
       "      <th>retweets_count</th>\n",
       "      <th>likes_count</th>\n",
       "      <th>hashtags</th>\n",
       "      <th>cashtags</th>\n",
       "      <th>retweet</th>\n",
       "    </tr>\n",
       "  </thead>\n",
       "  <tbody>\n",
       "    <tr>\n",
       "      <th>1</th>\n",
       "      <td>1.385880e+18</td>\n",
       "      <td>4/24/2021</td>\n",
       "      <td>8:43:17</td>\n",
       "      <td>The latest The Zika Advice Paper!  https://t.c...</td>\n",
       "      <td>0.0</td>\n",
       "      <td>0.0</td>\n",
       "      <td>0.0</td>\n",
       "      <td>['covid19', 'amr']</td>\n",
       "      <td>[]</td>\n",
       "      <td>False</td>\n",
       "    </tr>\n",
       "    <tr>\n",
       "      <th>3</th>\n",
       "      <td>1.385880e+18</td>\n",
       "      <td>4/24/2021</td>\n",
       "      <td>8:43:16</td>\n",
       "      <td>https://t.co/4rdhSH3IYl  Prime Minister @Nare...</td>\n",
       "      <td>0.0</td>\n",
       "      <td>0.0</td>\n",
       "      <td>0.0</td>\n",
       "      <td>['covid_19']</td>\n",
       "      <td>[]</td>\n",
       "      <td>False</td>\n",
       "    </tr>\n",
       "    <tr>\n",
       "      <th>5</th>\n",
       "      <td>1.385880e+18</td>\n",
       "      <td>4/24/2021</td>\n",
       "      <td>8:43:16</td>\n",
       "      <td>Covid-19: India is going through very terrible...</td>\n",
       "      <td>0.0</td>\n",
       "      <td>0.0</td>\n",
       "      <td>0.0</td>\n",
       "      <td>['presssangharsh', 'dailynews', 'news', 'india...</td>\n",
       "      <td>[]</td>\n",
       "      <td>False</td>\n",
       "    </tr>\n",
       "    <tr>\n",
       "      <th>6</th>\n",
       "      <td>1.385880e+18</td>\n",
       "      <td>4/24/2021</td>\n",
       "      <td>8:43:15</td>\n",
       "      <td>@CPBlr @KamalPantIPS speaks to me on the rules...</td>\n",
       "      <td>0.0</td>\n",
       "      <td>0.0</td>\n",
       "      <td>0.0</td>\n",
       "      <td>['covid19']</td>\n",
       "      <td>[]</td>\n",
       "      <td>False</td>\n",
       "    </tr>\n",
       "    <tr>\n",
       "      <th>7</th>\n",
       "      <td>1.385880e+18</td>\n",
       "      <td>4/24/2021</td>\n",
       "      <td>8:43:14</td>\n",
       "      <td>@Physio_voice @BiswabhusanHC @ysjagan @Audimul...</td>\n",
       "      <td>0.0</td>\n",
       "      <td>0.0</td>\n",
       "      <td>0.0</td>\n",
       "      <td>[]</td>\n",
       "      <td>[]</td>\n",
       "      <td>False</td>\n",
       "    </tr>\n",
       "  </tbody>\n",
       "</table>\n",
       "</div>"
      ],
      "text/plain": [
       "             id       date time_utc  \\\n",
       "1  1.385880e+18  4/24/2021  8:43:17   \n",
       "3  1.385880e+18  4/24/2021  8:43:16   \n",
       "5  1.385880e+18  4/24/2021  8:43:16   \n",
       "6  1.385880e+18  4/24/2021  8:43:15   \n",
       "7  1.385880e+18  4/24/2021  8:43:14   \n",
       "\n",
       "                                               tweet  replies_count  \\\n",
       "1  The latest The Zika Advice Paper!  https://t.c...            0.0   \n",
       "3   https://t.co/4rdhSH3IYl  Prime Minister @Nare...            0.0   \n",
       "5  Covid-19: India is going through very terrible...            0.0   \n",
       "6  @CPBlr @KamalPantIPS speaks to me on the rules...            0.0   \n",
       "7  @Physio_voice @BiswabhusanHC @ysjagan @Audimul...            0.0   \n",
       "\n",
       "   retweets_count  likes_count  \\\n",
       "1             0.0          0.0   \n",
       "3             0.0          0.0   \n",
       "5             0.0          0.0   \n",
       "6             0.0          0.0   \n",
       "7             0.0          0.0   \n",
       "\n",
       "                                            hashtags cashtags retweet  \n",
       "1                                 ['covid19', 'amr']       []   False  \n",
       "3                                       ['covid_19']       []   False  \n",
       "5  ['presssangharsh', 'dailynews', 'news', 'india...       []   False  \n",
       "6                                        ['covid19']       []   False  \n",
       "7                                                 []       []   False  "
      ]
     },
     "execution_count": 32,
     "metadata": {},
     "output_type": "execute_result"
    }
   ],
   "source": [
    "eng_data.head()"
   ]
  },
  {
   "cell_type": "markdown",
   "metadata": {},
   "source": [
    "# Visualization"
   ]
  },
  {
   "cell_type": "markdown",
   "metadata": {},
   "source": [
    "# Modeling"
   ]
  },
  {
   "cell_type": "markdown",
   "metadata": {},
   "source": [
    "# Results"
   ]
  },
  {
   "cell_type": "markdown",
   "metadata": {},
   "source": [
    "# Explanatory Data Analysis"
   ]
  },
  {
   "cell_type": "markdown",
   "metadata": {},
   "source": [
    "# Final Model, Conclusion, Recommendations"
   ]
  },
  {
   "cell_type": "code",
   "execution_count": null,
   "metadata": {},
   "outputs": [],
   "source": []
  }
 ],
 "metadata": {
  "kernelspec": {
   "display_name": "learn-env",
   "language": "python",
   "name": "learn-env"
  },
  "language_info": {
   "codemirror_mode": {
    "name": "ipython",
    "version": 3
   },
   "file_extension": ".py",
   "mimetype": "text/x-python",
   "name": "python",
   "nbconvert_exporter": "python",
   "pygments_lexer": "ipython3",
   "version": "3.8.5"
  }
 },
 "nbformat": 4,
 "nbformat_minor": 4
}
